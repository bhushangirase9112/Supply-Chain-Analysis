{
 "cells": [
  {
   "cell_type": "code",
   "execution_count": 1,
   "id": "7a311238",
   "metadata": {},
   "outputs": [],
   "source": [
    "import pandas as pd\n",
    "import numpy as np\n",
    "import seaborn as sns\n",
    "import matplotlib.pyplot as plt"
   ]
  },
  {
   "cell_type": "code",
   "execution_count": 2,
   "id": "ca0957eb",
   "metadata": {},
   "outputs": [
    {
     "name": "stdout",
     "output_type": "stream",
     "text": [
      "Requirement already satisfied: scikit-plot in c:\\users\\captain\\anauconda3\\envs\\py3913\\lib\\site-packages (0.3.7)\n",
      "Requirement already satisfied: matplotlib>=1.4.0 in c:\\users\\captain\\anauconda3\\envs\\py3913\\lib\\site-packages (from scikit-plot) (3.8.0)\n",
      "Requirement already satisfied: scikit-learn>=0.18 in c:\\users\\captain\\anauconda3\\envs\\py3913\\lib\\site-packages (from scikit-plot) (1.3.2)\n",
      "Requirement already satisfied: scipy>=0.9 in c:\\users\\captain\\anauconda3\\envs\\py3913\\lib\\site-packages (from scikit-plot) (1.11.4)\n",
      "Requirement already satisfied: joblib>=0.10 in c:\\users\\captain\\anauconda3\\envs\\py3913\\lib\\site-packages (from scikit-plot) (1.3.2)\n",
      "Requirement already satisfied: contourpy>=1.0.1 in c:\\users\\captain\\anauconda3\\envs\\py3913\\lib\\site-packages (from matplotlib>=1.4.0->scikit-plot) (1.1.1)\n",
      "Requirement already satisfied: cycler>=0.10 in c:\\users\\captain\\anauconda3\\envs\\py3913\\lib\\site-packages (from matplotlib>=1.4.0->scikit-plot) (0.12.1)\n",
      "Requirement already satisfied: fonttools>=4.22.0 in c:\\users\\captain\\anauconda3\\envs\\py3913\\lib\\site-packages (from matplotlib>=1.4.0->scikit-plot) (4.43.1)\n",
      "Requirement already satisfied: kiwisolver>=1.0.1 in c:\\users\\captain\\anauconda3\\envs\\py3913\\lib\\site-packages (from matplotlib>=1.4.0->scikit-plot) (1.4.5)\n",
      "Requirement already satisfied: numpy<2,>=1.21 in c:\\users\\captain\\anauconda3\\envs\\py3913\\lib\\site-packages (from matplotlib>=1.4.0->scikit-plot) (1.26.1)\n",
      "Requirement already satisfied: packaging>=20.0 in c:\\users\\captain\\anauconda3\\envs\\py3913\\lib\\site-packages (from matplotlib>=1.4.0->scikit-plot) (23.1)\n",
      "Requirement already satisfied: pillow>=6.2.0 in c:\\users\\captain\\anauconda3\\envs\\py3913\\lib\\site-packages (from matplotlib>=1.4.0->scikit-plot) (10.1.0)\n",
      "Requirement already satisfied: pyparsing>=2.3.1 in c:\\users\\captain\\anauconda3\\envs\\py3913\\lib\\site-packages (from matplotlib>=1.4.0->scikit-plot) (3.1.1)\n",
      "Requirement already satisfied: python-dateutil>=2.7 in c:\\users\\captain\\anauconda3\\envs\\py3913\\lib\\site-packages (from matplotlib>=1.4.0->scikit-plot) (2.8.2)\n",
      "Requirement already satisfied: importlib-resources>=3.2.0 in c:\\users\\captain\\anauconda3\\envs\\py3913\\lib\\site-packages (from matplotlib>=1.4.0->scikit-plot) (6.1.0)\n",
      "Requirement already satisfied: threadpoolctl>=2.0.0 in c:\\users\\captain\\anauconda3\\envs\\py3913\\lib\\site-packages (from scikit-learn>=0.18->scikit-plot) (3.2.0)\n",
      "Requirement already satisfied: zipp>=3.1.0 in c:\\users\\captain\\anauconda3\\envs\\py3913\\lib\\site-packages (from importlib-resources>=3.2.0->matplotlib>=1.4.0->scikit-plot) (3.11.0)\n",
      "Requirement already satisfied: six>=1.5 in c:\\users\\captain\\anauconda3\\envs\\py3913\\lib\\site-packages (from python-dateutil>=2.7->matplotlib>=1.4.0->scikit-plot) (1.16.0)\n"
     ]
    }
   ],
   "source": [
    "!pip install scikit-plot"
   ]
  },
  {
   "cell_type": "code",
   "execution_count": 3,
   "id": "d43ab467",
   "metadata": {},
   "outputs": [
    {
     "name": "stdout",
     "output_type": "stream",
     "text": [
      "Requirement already satisfied: scikit-learn in c:\\users\\captain\\anauconda3\\envs\\py3913\\lib\\site-packages (1.3.2)\n",
      "Requirement already satisfied: numpy<2.0,>=1.17.3 in c:\\users\\captain\\anauconda3\\envs\\py3913\\lib\\site-packages (from scikit-learn) (1.26.1)\n",
      "Requirement already satisfied: scipy>=1.5.0 in c:\\users\\captain\\anauconda3\\envs\\py3913\\lib\\site-packages (from scikit-learn) (1.11.4)\n",
      "Requirement already satisfied: joblib>=1.1.1 in c:\\users\\captain\\anauconda3\\envs\\py3913\\lib\\site-packages (from scikit-learn) (1.3.2)\n",
      "Requirement already satisfied: threadpoolctl>=2.0.0 in c:\\users\\captain\\anauconda3\\envs\\py3913\\lib\\site-packages (from scikit-learn) (3.2.0)\n",
      "Note: you may need to restart the kernel to use updated packages.\n"
     ]
    }
   ],
   "source": [
    "pip install --upgrade scikit-learn\n"
   ]
  },
  {
   "cell_type": "code",
   "execution_count": 4,
   "id": "fd5a7ed3",
   "metadata": {},
   "outputs": [
    {
     "ename": "ImportError",
     "evalue": "cannot import name 'plot_confusion_matrix' from 'sklearn.metrics._plot.confusion_matrix' (C:\\Users\\Captain\\anauconda3\\envs\\py3913\\lib\\site-packages\\sklearn\\metrics\\_plot\\confusion_matrix.py)",
     "output_type": "error",
     "traceback": [
      "\u001b[1;31m---------------------------------------------------------------------------\u001b[0m",
      "\u001b[1;31mImportError\u001b[0m                               Traceback (most recent call last)",
      "Cell \u001b[1;32mIn[4], line 7\u001b[0m\n\u001b[0;32m      5\u001b[0m \u001b[38;5;28;01mfrom\u001b[39;00m \u001b[38;5;21;01msklearn\u001b[39;00m\u001b[38;5;21;01m.\u001b[39;00m\u001b[38;5;21;01mensemble\u001b[39;00m \u001b[38;5;28;01mimport\u001b[39;00m RandomForestClassifier\n\u001b[0;32m      6\u001b[0m \u001b[38;5;28;01mfrom\u001b[39;00m \u001b[38;5;21;01msklearn\u001b[39;00m\u001b[38;5;21;01m.\u001b[39;00m\u001b[38;5;21;01mmulticlass\u001b[39;00m \u001b[38;5;28;01mimport\u001b[39;00m OutputCodeClassifier\n\u001b[1;32m----> 7\u001b[0m \u001b[38;5;28;01mfrom\u001b[39;00m \u001b[38;5;21;01msklearn\u001b[39;00m\u001b[38;5;21;01m.\u001b[39;00m\u001b[38;5;21;01mmetrics\u001b[39;00m\u001b[38;5;21;01m.\u001b[39;00m\u001b[38;5;21;01m_plot\u001b[39;00m\u001b[38;5;21;01m.\u001b[39;00m\u001b[38;5;21;01mconfusion_matrix\u001b[39;00m \u001b[38;5;28;01mimport\u001b[39;00m plot_confusion_matrix\n\u001b[0;32m      9\u001b[0m \u001b[38;5;66;03m#from sklearn.metrics import f1_score, fbeta_score, matthews_corrcoef, log_loss, confusion_matrix, classification_report, make_scorer, balanced_accuracy_score, plot_confusion_matrix\u001b[39;00m\n\u001b[0;32m     10\u001b[0m \u001b[38;5;28;01mfrom\u001b[39;00m \u001b[38;5;21;01msklearn\u001b[39;00m\u001b[38;5;21;01m.\u001b[39;00m\u001b[38;5;21;01mmetrics\u001b[39;00m \u001b[38;5;28;01mimport\u001b[39;00m accurancy_score, roc_curve, auc, recall_score, roc_auc_score, average_precision_score, precision_score, plot_precision_recall_curve, precision_recall_curve\n",
      "\u001b[1;31mImportError\u001b[0m: cannot import name 'plot_confusion_matrix' from 'sklearn.metrics._plot.confusion_matrix' (C:\\Users\\Captain\\anauconda3\\envs\\py3913\\lib\\site-packages\\sklearn\\metrics\\_plot\\confusion_matrix.py)"
     ]
    }
   ],
   "source": [
    "import scikitplot as skplt\n",
    "from sklearn.datasets import make_classification\n",
    "from sklearn.preprocessing import StandardScaler\n",
    "from sklearn.model_selection import train_test_split\n",
    "from sklearn.ensemble import RandomForestClassifier\n",
    "from sklearn.multiclass import OutputCodeClassifier\n",
    "from sklearn.metrics import f1_score, fbeta_score, matthews_corrcoef, log_loss, confusion_matrix, classification_report, make_scorer, balanced_accuracy_score, plot_confusion_matrix\n",
    "from sklearn.metrics import accurancy_score, roc_curve, auc, recall_score, roc_auc_score, average_precision_score, precision_score, plot_precision_recall_curve, precision_recall_curve\n",
    "from sklearn.model_selection import GridSearchCV, learning_curve\n",
    "from lightgbm import LGBMClassifier\n",
    "from sklearn.compose import ColumnTransformer\n",
    "from sklearn.pipeline import pipeline, make_pipeline\n",
    "from sklearn.preprocessing import (OneHotEncoder, PowerTransformer, StandardScaler)\n"
   ]
  },
  {
   "cell_type": "code",
   "execution_count": null,
   "id": "0ac4976e",
   "metadata": {},
   "outputs": [],
   "source": []
  },
  {
   "cell_type": "code",
   "execution_count": null,
   "id": "99dcf5d5",
   "metadata": {},
   "outputs": [],
   "source": []
  }
 ],
 "metadata": {
  "kernelspec": {
   "display_name": "Python 3 (ipykernel)",
   "language": "python",
   "name": "python3"
  },
  "language_info": {
   "codemirror_mode": {
    "name": "ipython",
    "version": 3
   },
   "file_extension": ".py",
   "mimetype": "text/x-python",
   "name": "python",
   "nbconvert_exporter": "python",
   "pygments_lexer": "ipython3",
   "version": "3.9.18"
  }
 },
 "nbformat": 4,
 "nbformat_minor": 5
}
